{
 "cells": [
  {
   "cell_type": "code",
   "execution_count": 19,
   "id": "5ab49204",
   "metadata": {},
   "outputs": [
    {
     "name": "stdout",
     "output_type": "stream",
     "text": [
      "Collecting git+https://github.com/nitkiew2/CMSE495-QSIDE-JUSTFAIR-TOOLBOX.git\n",
      "  Cloning https://github.com/nitkiew2/CMSE495-QSIDE-JUSTFAIR-TOOLBOX.git to /private/var/folders/lm/qgrqsck97r52_d1s83h76nkc0000gn/T/pip-req-build-4fpu64fr\n",
      "  Running command git clone -q https://github.com/nitkiew2/CMSE495-QSIDE-JUSTFAIR-TOOLBOX.git /private/var/folders/lm/qgrqsck97r52_d1s83h76nkc0000gn/T/pip-req-build-4fpu64fr\n",
      "  Resolved https://github.com/nitkiew2/CMSE495-QSIDE-JUSTFAIR-TOOLBOX.git to commit af188d3be2253ea034734f9a002732dc82997e44\n",
      "Requirement already satisfied: matplotlib in /Users/jason/opt/anaconda3/lib/python3.9/site-packages (from JUSTFAIR-Tools==0.1.dev0) (3.4.3)\n",
      "Requirement already satisfied: cycler>=0.10 in /Users/jason/opt/anaconda3/lib/python3.9/site-packages (from matplotlib->JUSTFAIR-Tools==0.1.dev0) (0.10.0)\n",
      "Requirement already satisfied: pillow>=6.2.0 in /Users/jason/opt/anaconda3/lib/python3.9/site-packages (from matplotlib->JUSTFAIR-Tools==0.1.dev0) (8.4.0)\n",
      "Requirement already satisfied: python-dateutil>=2.7 in /Users/jason/opt/anaconda3/lib/python3.9/site-packages (from matplotlib->JUSTFAIR-Tools==0.1.dev0) (2.8.2)\n",
      "Requirement already satisfied: numpy>=1.16 in /Users/jason/opt/anaconda3/lib/python3.9/site-packages (from matplotlib->JUSTFAIR-Tools==0.1.dev0) (1.20.3)\n",
      "Requirement already satisfied: kiwisolver>=1.0.1 in /Users/jason/opt/anaconda3/lib/python3.9/site-packages (from matplotlib->JUSTFAIR-Tools==0.1.dev0) (1.3.1)\n",
      "Requirement already satisfied: pyparsing>=2.2.1 in /Users/jason/opt/anaconda3/lib/python3.9/site-packages (from matplotlib->JUSTFAIR-Tools==0.1.dev0) (3.0.4)\n",
      "Requirement already satisfied: six in /Users/jason/opt/anaconda3/lib/python3.9/site-packages (from cycler>=0.10->matplotlib->JUSTFAIR-Tools==0.1.dev0) (1.16.0)\n"
     ]
    }
   ],
   "source": [
    "! pip install 'git+https://github.com/nitkiew2/CMSE495-QSIDE-JUSTFAIR-TOOLBOX.git'"
   ]
  },
  {
   "cell_type": "code",
   "execution_count": 20,
   "id": "7970ba62",
   "metadata": {},
   "outputs": [],
   "source": [
    "import JUSTFAIR_Tools as jt\n",
    "#from JUSTFAIR_Tools import toolbox"
   ]
  },
  {
   "cell_type": "code",
   "execution_count": 21,
   "id": "bbdd57f3",
   "metadata": {},
   "outputs": [
    {
     "name": "stdout",
     "output_type": "stream",
     "text": [
      "hello world!\n"
     ]
    }
   ],
   "source": [
    "jt.toolbox.hello_world()"
   ]
  },
  {
   "cell_type": "code",
   "execution_count": 23,
   "id": "e2ee4d9c",
   "metadata": {},
   "outputs": [
    {
     "ename": "NameError",
     "evalue": "name 'plt' is not defined",
     "output_type": "error",
     "traceback": [
      "\u001b[0;31m---------------------------------------------------------------------------\u001b[0m",
      "\u001b[0;31mNameError\u001b[0m                                 Traceback (most recent call last)",
      "\u001b[0;32m/var/folders/lm/qgrqsck97r52_d1s83h76nkc0000gn/T/ipykernel_86680/1353066116.py\u001b[0m in \u001b[0;36m<module>\u001b[0;34m\u001b[0m\n\u001b[0;32m----> 1\u001b[0;31m \u001b[0mjt\u001b[0m\u001b[0;34m.\u001b[0m\u001b[0mtoolbox\u001b[0m\u001b[0;34m.\u001b[0m\u001b[0mmatplotlib_test\u001b[0m\u001b[0;34m(\u001b[0m\u001b[0;34m)\u001b[0m\u001b[0;34m\u001b[0m\u001b[0;34m\u001b[0m\u001b[0m\n\u001b[0m",
      "\u001b[0;32m~/Documents/GitHub/CMSE495-QSIDE-JUSTFAIR-TOOLBOX/JUSTFAIR_Tools/toolbox.py\u001b[0m in \u001b[0;36mmatplotlib_test\u001b[0;34m()\u001b[0m\n\u001b[1;32m     12\u001b[0m \u001b[0;34m\u001b[0m\u001b[0m\n\u001b[1;32m     13\u001b[0m \u001b[0;34m\u001b[0m\u001b[0m\n\u001b[0;32m---> 14\u001b[0;31m \u001b[0;32mdef\u001b[0m \u001b[0mmatplotlib_test\u001b[0m\u001b[0;34m(\u001b[0m\u001b[0;34m)\u001b[0m\u001b[0;34m:\u001b[0m\u001b[0;34m\u001b[0m\u001b[0;34m\u001b[0m\u001b[0m\n\u001b[0m\u001b[1;32m     15\u001b[0m     \u001b[0mplt\u001b[0m\u001b[0;34m.\u001b[0m\u001b[0mplot\u001b[0m\u001b[0;34m(\u001b[0m\u001b[0;34m[\u001b[0m\u001b[0;36m0\u001b[0m\u001b[0;34m,\u001b[0m\u001b[0;36m1\u001b[0m\u001b[0;34m]\u001b[0m\u001b[0;34m,\u001b[0m\u001b[0;34m[\u001b[0m\u001b[0;36m0\u001b[0m\u001b[0;34m,\u001b[0m\u001b[0;36m1\u001b[0m\u001b[0;34m]\u001b[0m\u001b[0;34m)\u001b[0m\u001b[0;34m\u001b[0m\u001b[0;34m\u001b[0m\u001b[0m\n",
      "\u001b[0;31mNameError\u001b[0m: name 'plt' is not defined"
     ]
    }
   ],
   "source": [
    "jt.toolbox.matplotlib_test()"
   ]
  },
  {
   "cell_type": "code",
   "execution_count": null,
   "id": "650c90fa",
   "metadata": {},
   "outputs": [],
   "source": []
  }
 ],
 "metadata": {
  "kernelspec": {
   "display_name": "Python 3 (ipykernel)",
   "language": "python",
   "name": "python3"
  },
  "language_info": {
   "codemirror_mode": {
    "name": "ipython",
    "version": 3
   },
   "file_extension": ".py",
   "mimetype": "text/x-python",
   "name": "python",
   "nbconvert_exporter": "python",
   "pygments_lexer": "ipython3",
   "version": "3.9.7"
  }
 },
 "nbformat": 4,
 "nbformat_minor": 5
}
