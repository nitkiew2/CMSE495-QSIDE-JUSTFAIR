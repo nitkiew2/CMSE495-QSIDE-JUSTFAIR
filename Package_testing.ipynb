{
 "cells": [
  {
   "cell_type": "code",
   "execution_count": 8,
   "id": "f2d8b700",
   "metadata": {},
   "outputs": [
    {
     "name": "stdout",
     "output_type": "stream",
     "text": [
      "Collecting git+https://github.com/nitkiew2/CMSE495-QSIDE-JUSTFAIR-TOOLBOX.git\n",
      "  Cloning https://github.com/nitkiew2/CMSE495-QSIDE-JUSTFAIR-TOOLBOX.git to /private/var/folders/lm/qgrqsck97r52_d1s83h76nkc0000gn/T/pip-req-build-9_8kq0eh\n",
      "  Running command git clone -q https://github.com/nitkiew2/CMSE495-QSIDE-JUSTFAIR-TOOLBOX.git /private/var/folders/lm/qgrqsck97r52_d1s83h76nkc0000gn/T/pip-req-build-9_8kq0eh\n",
      "  Resolved https://github.com/nitkiew2/CMSE495-QSIDE-JUSTFAIR-TOOLBOX.git to commit ebd58f3433db6843d1cb819248823010a183ec94\n",
      "\u001b[31m    ERROR: Command errored out with exit status 1:\n",
      "     command: /Users/jason/opt/anaconda3/bin/python -c 'import io, os, sys, setuptools, tokenize; sys.argv[0] = '\"'\"'/private/var/folders/lm/qgrqsck97r52_d1s83h76nkc0000gn/T/pip-req-build-9_8kq0eh/setup.py'\"'\"'; __file__='\"'\"'/private/var/folders/lm/qgrqsck97r52_d1s83h76nkc0000gn/T/pip-req-build-9_8kq0eh/setup.py'\"'\"';f = getattr(tokenize, '\"'\"'open'\"'\"', open)(__file__) if os.path.exists(__file__) else io.StringIO('\"'\"'from setuptools import setup; setup()'\"'\"');code = f.read().replace('\"'\"'\\r\\n'\"'\"', '\"'\"'\\n'\"'\"');f.close();exec(compile(code, __file__, '\"'\"'exec'\"'\"'))' egg_info --egg-base /private/var/folders/lm/qgrqsck97r52_d1s83h76nkc0000gn/T/pip-pip-egg-info-qou0o0o0\n",
      "         cwd: /private/var/folders/lm/qgrqsck97r52_d1s83h76nkc0000gn/T/pip-req-build-9_8kq0eh/\n",
      "    Complete output (9 lines):\n",
      "    /Users/jason/opt/anaconda3/lib/python3.9/site-packages/setuptools/dist.py:487: UserWarning: Normalizing '0.1dev' to '0.1.dev0'\n",
      "      warnings.warn(tmpl.format(**locals()))\n",
      "    running egg_info\n",
      "    creating /private/var/folders/lm/qgrqsck97r52_d1s83h76nkc0000gn/T/pip-pip-egg-info-qou0o0o0/JUSTFAIR_Tools.egg-info\n",
      "    writing /private/var/folders/lm/qgrqsck97r52_d1s83h76nkc0000gn/T/pip-pip-egg-info-qou0o0o0/JUSTFAIR_Tools.egg-info/PKG-INFO\n",
      "    writing dependency_links to /private/var/folders/lm/qgrqsck97r52_d1s83h76nkc0000gn/T/pip-pip-egg-info-qou0o0o0/JUSTFAIR_Tools.egg-info/dependency_links.txt\n",
      "    writing top-level names to /private/var/folders/lm/qgrqsck97r52_d1s83h76nkc0000gn/T/pip-pip-egg-info-qou0o0o0/JUSTFAIR_Tools.egg-info/top_level.txt\n",
      "    writing manifest file '/private/var/folders/lm/qgrqsck97r52_d1s83h76nkc0000gn/T/pip-pip-egg-info-qou0o0o0/JUSTFAIR_Tools.egg-info/SOURCES.txt'\n",
      "    error: package directory 'matplotlib' does not exist\n",
      "    ----------------------------------------\u001b[0m\n",
      "\u001b[33mWARNING: Discarding git+https://github.com/nitkiew2/CMSE495-QSIDE-JUSTFAIR-TOOLBOX.git. Command errored out with exit status 1: python setup.py egg_info Check the logs for full command output.\u001b[0m\n",
      "\u001b[31mERROR: Command errored out with exit status 1: python setup.py egg_info Check the logs for full command output.\u001b[0m\n"
     ]
    }
   ],
   "source": [
    "! pip install 'git+https://github.com/nitkiew2/CMSE495-QSIDE-JUSTFAIR-TOOLBOX.git'"
   ]
  },
  {
   "cell_type": "code",
   "execution_count": 3,
   "id": "7970ba62",
   "metadata": {},
   "outputs": [],
   "source": [
    "import JUSTFAIR_Tools as jt"
   ]
  },
  {
   "cell_type": "code",
   "execution_count": null,
   "id": "7a582d20",
   "metadata": {},
   "outputs": [],
   "source": []
  },
  {
   "cell_type": "code",
   "execution_count": null,
   "id": "88f5daea",
   "metadata": {},
   "outputs": [],
   "source": []
  },
  {
   "cell_type": "code",
   "execution_count": null,
   "id": "f1f545a9",
   "metadata": {},
   "outputs": [],
   "source": []
  }
 ],
 "metadata": {
  "kernelspec": {
   "display_name": "Python 3 (ipykernel)",
   "language": "python",
   "name": "python3"
  },
  "language_info": {
   "codemirror_mode": {
    "name": "ipython",
    "version": 3
   },
   "file_extension": ".py",
   "mimetype": "text/x-python",
   "name": "python",
   "nbconvert_exporter": "python",
   "pygments_lexer": "ipython3",
   "version": "3.9.7"
  }
 },
 "nbformat": 4,
 "nbformat_minor": 5
}
