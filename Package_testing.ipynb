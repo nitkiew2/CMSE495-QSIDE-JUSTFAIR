{
 "cells": [
  {
   "cell_type": "code",
   "execution_count": 1,
   "id": "60e89b8b",
   "metadata": {},
   "outputs": [
    {
     "name": "stdout",
     "output_type": "stream",
     "text": [
      "Collecting git+https://github.com/nitkiew2/CMSE495-QSIDE-JUSTFAIR-TOOLBOX.git\n",
      "  Cloning https://github.com/nitkiew2/CMSE495-QSIDE-JUSTFAIR-TOOLBOX.git to /private/var/folders/lm/qgrqsck97r52_d1s83h76nkc0000gn/T/pip-req-build-k7qv8ell\n",
      "  Running command git clone -q https://github.com/nitkiew2/CMSE495-QSIDE-JUSTFAIR-TOOLBOX.git /private/var/folders/lm/qgrqsck97r52_d1s83h76nkc0000gn/T/pip-req-build-k7qv8ell\n",
      "  Resolved https://github.com/nitkiew2/CMSE495-QSIDE-JUSTFAIR-TOOLBOX.git to commit 8e39ec1e3e23525dc1b9e1e82ea4eb63a6e51ed6\n"
     ]
    }
   ],
   "source": [
    "! pip install 'git+https://github.com/nitkiew2/CMSE495-QSIDE-JUSTFAIR-TOOLBOX.git'"
   ]
  },
  {
   "cell_type": "code",
   "execution_count": 2,
   "id": "7970ba62",
   "metadata": {},
   "outputs": [
    {
     "ename": "ModuleNotFoundError",
     "evalue": "No module named 'toolbox'",
     "output_type": "error",
     "traceback": [
      "\u001b[0;31m---------------------------------------------------------------------------\u001b[0m",
      "\u001b[0;31mModuleNotFoundError\u001b[0m                       Traceback (most recent call last)",
      "\u001b[0;32m/var/folders/lm/qgrqsck97r52_d1s83h76nkc0000gn/T/ipykernel_86680/3866156976.py\u001b[0m in \u001b[0;36m<module>\u001b[0;34m\u001b[0m\n\u001b[0;32m----> 1\u001b[0;31m \u001b[0;32mimport\u001b[0m \u001b[0mJUSTFAIR_Tools\u001b[0m \u001b[0;32mas\u001b[0m \u001b[0mjt\u001b[0m\u001b[0;34m\u001b[0m\u001b[0;34m\u001b[0m\u001b[0m\n\u001b[0m\u001b[1;32m      2\u001b[0m \u001b[0;31m#from JUSTFAIR_Tools import toolbox\u001b[0m\u001b[0;34m\u001b[0m\u001b[0;34m\u001b[0m\u001b[0m\n",
      "\u001b[0;32m~/Documents/GitHub/CMSE495-QSIDE-JUSTFAIR-TOOLBOX/JUSTFAIR_Tools/__init__.py\u001b[0m in \u001b[0;36m<module>\u001b[0;34m\u001b[0m\n\u001b[1;32m      8\u001b[0m \u001b[0;34m\u001b[0m\u001b[0m\n\u001b[1;32m      9\u001b[0m \u001b[0;31m#import hello_world from JUSTFAIR_tools\u001b[0m\u001b[0;34m\u001b[0m\u001b[0;34m\u001b[0m\u001b[0m\n\u001b[0;32m---> 10\u001b[0;31m \u001b[0;32mfrom\u001b[0m \u001b[0mtoolbox\u001b[0m \u001b[0;32mimport\u001b[0m \u001b[0mhello_world\u001b[0m\u001b[0;34m\u001b[0m\u001b[0;34m\u001b[0m\u001b[0m\n\u001b[0m",
      "\u001b[0;31mModuleNotFoundError\u001b[0m: No module named 'toolbox'"
     ]
    }
   ],
   "source": [
    "import JUSTFAIR_Tools as jt\n",
    "#from JUSTFAIR_Tools import toolbox"
   ]
  },
  {
   "cell_type": "code",
   "execution_count": null,
   "id": "9e32d6a8",
   "metadata": {},
   "outputs": [],
   "source": [
    "jt.toolbox.hello_world()"
   ]
  },
  {
   "cell_type": "code",
   "execution_count": null,
   "id": "b49275f3",
   "metadata": {},
   "outputs": [],
   "source": [
    "jt.toolbox.matplotlib_test()"
   ]
  },
  {
   "cell_type": "code",
   "execution_count": null,
   "id": "2ebd2fd8",
   "metadata": {},
   "outputs": [],
   "source": []
  }
 ],
 "metadata": {
  "kernelspec": {
   "display_name": "Python 3 (ipykernel)",
   "language": "python",
   "name": "python3"
  },
  "language_info": {
   "codemirror_mode": {
    "name": "ipython",
    "version": 3
   },
   "file_extension": ".py",
   "mimetype": "text/x-python",
   "name": "python",
   "nbconvert_exporter": "python",
   "pygments_lexer": "ipython3",
   "version": "3.9.7"
  }
 },
 "nbformat": 4,
 "nbformat_minor": 5
}
