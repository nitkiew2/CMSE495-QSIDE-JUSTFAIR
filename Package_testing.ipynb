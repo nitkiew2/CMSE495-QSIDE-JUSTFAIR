{
 "cells": [
  {
   "cell_type": "code",
   "execution_count": 1,
   "id": "d9e33d2a",
   "metadata": {},
   "outputs": [
    {
     "name": "stdout",
     "output_type": "stream",
     "text": [
      "Collecting git+https://github.com/nitkiew2/CMSE495-QSIDE-JUSTFAIR-TOOLBOX.git\n",
      "  Cloning https://github.com/nitkiew2/CMSE495-QSIDE-JUSTFAIR-TOOLBOX.git to /private/var/folders/lm/qgrqsck97r52_d1s83h76nkc0000gn/T/pip-req-build-53ndhfw3\n",
      "  Running command git clone -q https://github.com/nitkiew2/CMSE495-QSIDE-JUSTFAIR-TOOLBOX.git /private/var/folders/lm/qgrqsck97r52_d1s83h76nkc0000gn/T/pip-req-build-53ndhfw3\n",
      "  Resolved https://github.com/nitkiew2/CMSE495-QSIDE-JUSTFAIR-TOOLBOX.git to commit 0e70eb336a3d250f86e29f3c0983f8c0008197e9\n",
      "Requirement already satisfied: matplotlib in /Users/jason/opt/anaconda3/lib/python3.9/site-packages (from JUSTFAIR-Tools==0.1.dev0) (3.4.3)\n",
      "Requirement already satisfied: pyparsing>=2.2.1 in /Users/jason/opt/anaconda3/lib/python3.9/site-packages (from matplotlib->JUSTFAIR-Tools==0.1.dev0) (3.0.4)\n",
      "Requirement already satisfied: numpy>=1.16 in /Users/jason/opt/anaconda3/lib/python3.9/site-packages (from matplotlib->JUSTFAIR-Tools==0.1.dev0) (1.20.3)\n",
      "Requirement already satisfied: pillow>=6.2.0 in /Users/jason/opt/anaconda3/lib/python3.9/site-packages (from matplotlib->JUSTFAIR-Tools==0.1.dev0) (8.4.0)\n",
      "Requirement already satisfied: cycler>=0.10 in /Users/jason/opt/anaconda3/lib/python3.9/site-packages (from matplotlib->JUSTFAIR-Tools==0.1.dev0) (0.10.0)\n",
      "Requirement already satisfied: kiwisolver>=1.0.1 in /Users/jason/opt/anaconda3/lib/python3.9/site-packages (from matplotlib->JUSTFAIR-Tools==0.1.dev0) (1.3.1)\n",
      "Requirement already satisfied: python-dateutil>=2.7 in /Users/jason/opt/anaconda3/lib/python3.9/site-packages (from matplotlib->JUSTFAIR-Tools==0.1.dev0) (2.8.2)\n",
      "Requirement already satisfied: six in /Users/jason/opt/anaconda3/lib/python3.9/site-packages (from cycler>=0.10->matplotlib->JUSTFAIR-Tools==0.1.dev0) (1.16.0)\n"
     ]
    }
   ],
   "source": [
    "! pip install 'git+https://github.com/nitkiew2/CMSE495-QSIDE-JUSTFAIR-TOOLBOX.git'"
   ]
  },
  {
   "cell_type": "code",
   "execution_count": 2,
   "id": "7970ba62",
   "metadata": {},
   "outputs": [],
   "source": [
    "import JUSTFAIR_Tools as jt\n",
    "#from JUSTFAIR_Tools import toolbox"
   ]
  },
  {
   "cell_type": "code",
   "execution_count": 3,
   "id": "6d2b8780",
   "metadata": {},
   "outputs": [
    {
     "name": "stdout",
     "output_type": "stream",
     "text": [
      "hello world!\n"
     ]
    }
   ],
   "source": [
    "jt.toolbox.hello_world()"
   ]
  },
  {
   "cell_type": "code",
   "execution_count": 4,
   "id": "ffdb6577",
   "metadata": {},
   "outputs": [
    {
     "data": {
      "image/png": "[encoded data removed]",
      "text/plain": [
       "<Figure size 432x288 with 1 Axes>"
      ]
     },
     "metadata": {
      "needs_background": "light"
     },
     "output_type": "display_data"
    }
   ],
   "source": [
    "jt.toolbox.matplotlib_test()"
   ]
  },
  {
   "cell_type": "code",
   "execution_count": null,
   "id": "28af199d",
   "metadata": {},
   "outputs": [],
   "source": []
  }
 ],
 "metadata": {
  "kernelspec": {
   "display_name": "Python 3 (ipykernel)",
   "language": "python",
   "name": "python3"
  },
  "language_info": {
   "codemirror_mode": {
    "name": "ipython",
    "version": 3
   },
   "file_extension": ".py",
   "mimetype": "text/x-python",
   "name": "python",
   "nbconvert_exporter": "python",
   "pygments_lexer": "ipython3",
   "version": "3.9.7"
  }
 },
 "nbformat": 4,
 "nbformat_minor": 5
}
