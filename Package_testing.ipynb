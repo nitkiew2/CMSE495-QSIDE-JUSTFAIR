{
 "cells": [
  {
   "cell_type": "code",
   "execution_count": 1,
   "id": "38e188cc",
   "metadata": {},
   "outputs": [
    {
     "name": "stdout",
     "output_type": "stream",
     "text": [
      "Collecting git+https://github.com/nitkiew2/CMSE495-QSIDE-JUSTFAIR-TOOLBOX.git\n",
      "  Cloning https://github.com/nitkiew2/CMSE495-QSIDE-JUSTFAIR-TOOLBOX.git to /private/var/folders/lm/qgrqsck97r52_d1s83h76nkc0000gn/T/pip-req-build-h5f8bwmn\n",
      "  Running command git clone -q https://github.com/nitkiew2/CMSE495-QSIDE-JUSTFAIR-TOOLBOX.git /private/var/folders/lm/qgrqsck97r52_d1s83h76nkc0000gn/T/pip-req-build-h5f8bwmn\n",
      "  Resolved https://github.com/nitkiew2/CMSE495-QSIDE-JUSTFAIR-TOOLBOX.git to commit 62e41ae76b4b9724452ed59421c19e1caebf80a4\n",
      "Building wheels for collected packages: JUSTFAIR-Toolbox\n",
      "  Building wheel for JUSTFAIR-Toolbox (setup.py) ... \u001b[?25ldone\n",
      "\u001b[?25h  Created wheel for JUSTFAIR-Toolbox: filename=JUSTFAIR_Toolbox-0.1.dev0-py3-none-any.whl size=1981 sha256=f2d3ed180a68836afdf85803e85b94f76dac80b928327e190d50a56c9b22deb3\n",
      "  Stored in directory: /private/var/folders/lm/qgrqsck97r52_d1s83h76nkc0000gn/T/pip-ephem-wheel-cache-8k8vnk_z/wheels/9f/1e/47/4d44d5f699854fb0b65396a893e7d2e33825e8c788e91bd1ba\n",
      "Successfully built JUSTFAIR-Toolbox\n",
      "Installing collected packages: JUSTFAIR-Toolbox\n",
      "Successfully installed JUSTFAIR-Toolbox-0.1.dev0\n"
     ]
    }
   ],
   "source": [
    "! pip install 'git+https://github.com/nitkiew2/CMSE495-QSIDE-JUSTFAIR-TOOLBOX.git'"
   ]
  },
  {
   "cell_type": "code",
   "execution_count": 3,
   "id": "7970ba62",
   "metadata": {},
   "outputs": [],
   "source": [
    "import JUSTFAIR_Tools as jt"
   ]
  },
  {
   "cell_type": "code",
   "execution_count": null,
   "id": "d1f92836",
   "metadata": {},
   "outputs": [],
   "source": []
  },
  {
   "cell_type": "code",
   "execution_count": null,
   "id": "a44dc272",
   "metadata": {},
   "outputs": [],
   "source": []
  },
  {
   "cell_type": "code",
   "execution_count": null,
   "id": "6f3562ce",
   "metadata": {},
   "outputs": [],
   "source": []
  }
 ],
 "metadata": {
  "kernelspec": {
   "display_name": "Python 3 (ipykernel)",
   "language": "python",
   "name": "python3"
  },
  "language_info": {
   "codemirror_mode": {
    "name": "ipython",
    "version": 3
   },
   "file_extension": ".py",
   "mimetype": "text/x-python",
   "name": "python",
   "nbconvert_exporter": "python",
   "pygments_lexer": "ipython3",
   "version": "3.9.7"
  }
 },
 "nbformat": 4,
 "nbformat_minor": 5
}
