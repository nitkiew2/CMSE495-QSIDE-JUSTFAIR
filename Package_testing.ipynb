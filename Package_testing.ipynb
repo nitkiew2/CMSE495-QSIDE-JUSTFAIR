{
 "cells": [
  {
   "cell_type": "code",
   "execution_count": 9,
   "id": "2dc5085a",
   "metadata": {},
   "outputs": [
    {
     "name": "stdout",
     "output_type": "stream",
     "text": [
      "Collecting git+https://github.com/nitkiew2/CMSE495-QSIDE-JUSTFAIR-TOOLBOX.git\n",
      "  Cloning https://github.com/nitkiew2/CMSE495-QSIDE-JUSTFAIR-TOOLBOX.git to /private/var/folders/lm/qgrqsck97r52_d1s83h76nkc0000gn/T/pip-req-build-n3cw3qku\n",
      "  Running command git clone -q https://github.com/nitkiew2/CMSE495-QSIDE-JUSTFAIR-TOOLBOX.git /private/var/folders/lm/qgrqsck97r52_d1s83h76nkc0000gn/T/pip-req-build-n3cw3qku\n",
      "  Resolved https://github.com/nitkiew2/CMSE495-QSIDE-JUSTFAIR-TOOLBOX.git to commit 10777d884085847e66e3a5da68c4bee53a3f855e\n",
      "Building wheels for collected packages: JUSTFAIR-Tools\n",
      "  Building wheel for JUSTFAIR-Tools (setup.py) ... \u001b[?25ldone\n",
      "\u001b[?25h  Created wheel for JUSTFAIR-Tools: filename=JUSTFAIR_Tools-0.1.dev0-py3-none-any.whl size=1995 sha256=7a22726d9e2bf615aad44f11157ad962a23da84118bb0e3a56b6e2571f8d22ef\n",
      "  Stored in directory: /private/var/folders/lm/qgrqsck97r52_d1s83h76nkc0000gn/T/pip-ephem-wheel-cache-cfvf1tvw/wheels/9f/1e/47/4d44d5f699854fb0b65396a893e7d2e33825e8c788e91bd1ba\n",
      "Successfully built JUSTFAIR-Tools\n",
      "Installing collected packages: JUSTFAIR-Tools\n",
      "Successfully installed JUSTFAIR-Tools-0.1.dev0\n"
     ]
    }
   ],
   "source": [
    "! pip install 'git+https://github.com/nitkiew2/CMSE495-QSIDE-JUSTFAIR-TOOLBOX.git'"
   ]
  },
  {
   "cell_type": "code",
   "execution_count": 10,
   "id": "7970ba62",
   "metadata": {},
   "outputs": [],
   "source": [
    "import JUSTFAIR_Tools as jt"
   ]
  },
  {
   "cell_type": "code",
   "execution_count": null,
   "id": "ce2f6328",
   "metadata": {},
   "outputs": [],
   "source": []
  },
  {
   "cell_type": "code",
   "execution_count": 12,
   "id": "d698135d",
   "metadata": {},
   "outputs": [
    {
     "data": {
      "text/plain": [
       "['__builtins__',\n",
       " '__cached__',\n",
       " '__doc__',\n",
       " '__file__',\n",
       " '__loader__',\n",
       " '__name__',\n",
       " '__package__',\n",
       " '__path__',\n",
       " '__spec__']"
      ]
     },
     "execution_count": 12,
     "metadata": {},
     "output_type": "execute_result"
    }
   ],
   "source": [
    "dir(jt)"
   ]
  },
  {
   "cell_type": "code",
   "execution_count": null,
   "id": "e0feea09",
   "metadata": {},
   "outputs": [],
   "source": []
  }
 ],
 "metadata": {
  "kernelspec": {
   "display_name": "Python 3 (ipykernel)",
   "language": "python",
   "name": "python3"
  },
  "language_info": {
   "codemirror_mode": {
    "name": "ipython",
    "version": 3
   },
   "file_extension": ".py",
   "mimetype": "text/x-python",
   "name": "python",
   "nbconvert_exporter": "python",
   "pygments_lexer": "ipython3",
   "version": "3.9.7"
  }
 },
 "nbformat": 4,
 "nbformat_minor": 5
}
