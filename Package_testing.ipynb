{
 "cells": [
  {
   "cell_type": "code",
   "execution_count": 2,
   "id": "73e53f7b",
   "metadata": {},
   "outputs": [
    {
     "name": "stdout",
     "output_type": "stream",
     "text": [
      "\r\n",
      "Usage:   \r\n",
      "  pip install [options] <requirement specifier> [package-index-options] ...\r\n",
      "  pip install [options] -r <requirements file> [package-index-options] ...\r\n",
      "  pip install [options] [-e] <vcs project url> ...\r\n",
      "  pip install [options] [-e] <local project path> ...\r\n",
      "  pip install [options] <archive url/path> ...\r\n",
      "\r\n",
      "no such option: -g\r\n"
     ]
    }
   ],
   "source": [
    "! pip install -git 'https://github.com/nitkiew2/CMSE495-QSIDE-JUSTFAIR-TOOLBOX.git'"
   ]
  },
  {
   "cell_type": "code",
   "execution_count": null,
   "id": "7970ba62",
   "metadata": {},
   "outputs": [],
   "source": [
    "import JUSTFAIR_Toolbox as jt"
   ]
  }
 ],
 "metadata": {
  "kernelspec": {
   "display_name": "Python 3 (ipykernel)",
   "language": "python",
   "name": "python3"
  },
  "language_info": {
   "codemirror_mode": {
    "name": "ipython",
    "version": 3
   },
   "file_extension": ".py",
   "mimetype": "text/x-python",
   "name": "python",
   "nbconvert_exporter": "python",
   "pygments_lexer": "ipython3",
   "version": "3.9.7"
  }
 },
 "nbformat": 4,
 "nbformat_minor": 5
}
