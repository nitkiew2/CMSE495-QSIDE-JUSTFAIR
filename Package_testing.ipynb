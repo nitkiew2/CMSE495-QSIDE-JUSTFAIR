{
 "cells": [
  {
   "cell_type": "code",
   "execution_count": 1,
   "id": "5fba1397",
   "metadata": {},
   "outputs": [],
   "source": [
    "#from IPython.display import clear_output\n",
    "#! pip install 'git+https://github.com/nitkiew2/CMSE495-QSIDE-JUSTFAIR-TOOLBOX.git'\n",
    "#clear_output()"
   ]
  },
  {
   "cell_type": "code",
   "execution_count": 2,
   "id": "7970ba62",
   "metadata": {},
   "outputs": [],
   "source": [
    "import JUSTFAIR_Tools as jt\n",
    "from JUSTFAIR_Tools import State\n",
    "#from JUSTFAIR_Tools import toolbox"
   ]
  },
  {
   "cell_type": "code",
   "execution_count": 3,
   "id": "b7b6952c",
   "metadata": {},
   "outputs": [],
   "source": [
    "states = {}  # dictionary to hold all states.  maps dict['state name'] --> state object for that state\n",
    "paths = {}  # temporary paths dicitonary that will be passed into the creation of minnesota state object\n",
    "paths['county'] = jt.Path('countyname')\n",
    "paths['year'] = jt.Path('sentyear')\n",
    "paths['district'] = jt.Path('district')\n",
    "paths['race'] = jt.Path('race', {0:'NA', \n",
    "                         'white':'White', \n",
    "                         'black':'Black', \n",
    "                         'amind':'American Indian',\n",
    "                         'hispanic': 'Hispanic',\n",
    "                         'asian': 'Asian',\n",
    "                         'other': ' Other'\n",
    "                                })\n",
    "paths['departure'] = jt.Path('durdep', {0:'Within Range', \n",
    "                                 1:'Above Departure', \n",
    "                                 2:'Below Range', \n",
    "                                 3:'Missing, Indeterminable, or Inapplicable'})\n",
    "paths['judge'] = jt.Path('judge')\n",
    "paths['sex'] = jt.Path('sex', {1: 'Male', \n",
    "                        2: 'Female'})\n",
    "paths['age'] = jt.Path('Agecat', {1: 'Under 18', \n",
    "                           2: '18-21', \n",
    "                           3: '22-25', \n",
    "                           4: '26-30',\n",
    "                           5: '31-40',\n",
    "                           6: '41-50',\n",
    "                           7: '51+'})\n",
    "\n",
    "states['minnesota'] = jt.State('minnesota', \n",
    "                            '../CMSE 495/allmnclean.csv', \n",
    "                            paths, using_url = False)"
   ]
  },
  {
   "cell_type": "code",
   "execution_count": 4,
   "id": "74f71c28",
   "metadata": {},
   "outputs": [
    {
     "data": {
      "text/plain": [
       "<JUSTFAIR_Tools.State.State at 0x7fcbdaa915b0>"
      ]
     },
     "execution_count": 4,
     "metadata": {},
     "output_type": "execute_result"
    }
   ],
   "source": [
    "\n",
    "#now that we have the information, we create the minnesota state object and add it to the states dictionary\n",
    "#states['minnesota'] = jt.State('minnesota', \n",
    "#                            'https://drive.google.com/file/d/1uz_-qgvObAPcB444fEhb_QizWSiKe-eg/view?usp=sharing', \n",
    "#                            paths)\n",
    "\n",
    "\n",
    "states['minnesota']\n"
   ]
  },
  {
   "cell_type": "code",
   "execution_count": 6,
   "id": "46deac73",
   "metadata": {
    "scrolled": false
   },
   "outputs": [
    {
     "ename": "TypeError",
     "evalue": "plot_df() takes 5 positional arguments but 6 were given",
     "output_type": "error",
     "traceback": [
      "\u001b[0;31m---------------------------------------------------------------------------\u001b[0m",
      "\u001b[0;31mTypeError\u001b[0m                                 Traceback (most recent call last)",
      "\u001b[0;32m/var/folders/lm/qgrqsck97r52_d1s83h76nkc0000gn/T/ipykernel_24589/2969329412.py\u001b[0m in \u001b[0;36m<module>\u001b[0;34m\u001b[0m\n\u001b[0;32m----> 1\u001b[0;31m \u001b[0mstates\u001b[0m\u001b[0;34m[\u001b[0m\u001b[0;34m'minnesota'\u001b[0m\u001b[0;34m]\u001b[0m\u001b[0;34m.\u001b[0m\u001b[0mgeneralizable_multi_level_summary\u001b[0m\u001b[0;34m(\u001b[0m\u001b[0minp_list_of_groups\u001b[0m \u001b[0;34m=\u001b[0m \u001b[0;34m[\u001b[0m\u001b[0;34m'race'\u001b[0m\u001b[0;34m,\u001b[0m \u001b[0;34m'departure'\u001b[0m\u001b[0;34m]\u001b[0m\u001b[0;34m)\u001b[0m\u001b[0;34m\u001b[0m\u001b[0;34m\u001b[0m\u001b[0m\n\u001b[0m\u001b[1;32m      2\u001b[0m \u001b[0;31m#states['minnesota'].state_trends()\u001b[0m\u001b[0;34m\u001b[0m\u001b[0;34m\u001b[0m\u001b[0m\n\u001b[1;32m      3\u001b[0m \u001b[0;31m#output = states['minnesota'].individual_section_analysis_v2('judge','Nord, Beryl', ['race','departure'])\u001b[0m\u001b[0;34m\u001b[0m\u001b[0;34m\u001b[0m\u001b[0m\n",
      "\u001b[0;32m~/Documents/GitHub/CMSE495-QSIDE-JUSTFAIR-TOOLBOX/JUSTFAIR_Tools/State.py\u001b[0m in \u001b[0;36mgeneralizable_multi_level_summary\u001b[0;34m(self, inp_list_of_groups, years, plot)\u001b[0m\n\u001b[1;32m     91\u001b[0m         \u001b[0;31m# we should have a subplots vs stacked parameter here maybe?  either do lots of individual graphs or stacked\u001b[0m\u001b[0;34m\u001b[0m\u001b[0;34m\u001b[0m\u001b[0m\n\u001b[1;32m     92\u001b[0m         \u001b[0msubset_dat\u001b[0m \u001b[0;34m=\u001b[0m \u001b[0mfilter_years\u001b[0m\u001b[0;34m(\u001b[0m\u001b[0mself\u001b[0m\u001b[0;34m,\u001b[0m \u001b[0myears\u001b[0m\u001b[0;34m)\u001b[0m  \u001b[0;31m#first, filter for the years we are looking for\u001b[0m\u001b[0;34m\u001b[0m\u001b[0;34m\u001b[0m\u001b[0m\n\u001b[0;32m---> 93\u001b[0;31m         \u001b[0;32mreturn\u001b[0m \u001b[0msubset_data_multi_level_summary\u001b[0m\u001b[0;34m(\u001b[0m\u001b[0mself\u001b[0m\u001b[0;34m,\u001b[0m \u001b[0msubset_dat\u001b[0m\u001b[0;34m,\u001b[0m \u001b[0mself\u001b[0m\u001b[0;34m.\u001b[0m\u001b[0mname\u001b[0m\u001b[0;34m,\u001b[0m \u001b[0minp_list_of_groups\u001b[0m\u001b[0;34m,\u001b[0m \u001b[0mplot\u001b[0m\u001b[0;34m)\u001b[0m\u001b[0;34m\u001b[0m\u001b[0;34m\u001b[0m\u001b[0m\n\u001b[0m\u001b[1;32m     94\u001b[0m \u001b[0;34m\u001b[0m\u001b[0m\n\u001b[1;32m     95\u001b[0m \u001b[0;34m\u001b[0m\u001b[0m\n",
      "\u001b[0;32m~/Documents/GitHub/CMSE495-QSIDE-JUSTFAIR-TOOLBOX/JUSTFAIR_Tools/toolbox.py\u001b[0m in \u001b[0;36msubset_data_multi_level_summary\u001b[0;34m(stateobj, subset_dat, base_group_str, inp_list_of_groups, plot)\u001b[0m\n\u001b[1;32m    169\u001b[0m     \u001b[0mcomb_df\u001b[0m\u001b[0;34m.\u001b[0m\u001b[0mcolumns\u001b[0m \u001b[0;34m=\u001b[0m \u001b[0;34m[\u001b[0m\u001b[0;34m'count'\u001b[0m\u001b[0;34m,\u001b[0m \u001b[0;34m'percent'\u001b[0m\u001b[0;34m]\u001b[0m  \u001b[0;31m# rename columns\u001b[0m\u001b[0;34m\u001b[0m\u001b[0;34m\u001b[0m\u001b[0m\n\u001b[1;32m    170\u001b[0m     \u001b[0;32mif\u001b[0m \u001b[0mplot\u001b[0m \u001b[0;34m==\u001b[0m \u001b[0;34m'stacked bar'\u001b[0m\u001b[0;34m:\u001b[0m\u001b[0;34m\u001b[0m\u001b[0;34m\u001b[0m\u001b[0m\n\u001b[0;32m--> 171\u001b[0;31m         \u001b[0mplot_df\u001b[0m\u001b[0;34m(\u001b[0m\u001b[0mstateobj\u001b[0m\u001b[0;34m,\u001b[0m \u001b[0mperc\u001b[0m\u001b[0;34m,\u001b[0m \u001b[0mstateobj\u001b[0m\u001b[0;34m.\u001b[0m\u001b[0mcolors\u001b[0m\u001b[0;34m,\u001b[0m \u001b[0;34m'stacked bar'\u001b[0m\u001b[0;34m,\u001b[0m \u001b[0minp_list_of_groups\u001b[0m\u001b[0;34m[\u001b[0m\u001b[0;34m:\u001b[0m\u001b[0;34m-\u001b[0m\u001b[0;36m1\u001b[0m\u001b[0;34m]\u001b[0m\u001b[0;34m,\u001b[0m \u001b[0mbase_group_str\u001b[0m\u001b[0;34m)\u001b[0m  \u001b[0;31m# call our plotting function\u001b[0m\u001b[0;34m\u001b[0m\u001b[0;34m\u001b[0m\u001b[0m\n\u001b[0m\u001b[1;32m    172\u001b[0m     \u001b[0;32melif\u001b[0m \u001b[0mplot\u001b[0m \u001b[0;34m==\u001b[0m \u001b[0;34m'bar'\u001b[0m\u001b[0;34m:\u001b[0m\u001b[0;34m\u001b[0m\u001b[0;34m\u001b[0m\u001b[0m\n\u001b[1;32m    173\u001b[0m         \u001b[0mplot_df\u001b[0m\u001b[0;34m(\u001b[0m\u001b[0mstateobj\u001b[0m\u001b[0;34m,\u001b[0m \u001b[0mperc\u001b[0m\u001b[0;34m,\u001b[0m \u001b[0mstateobj\u001b[0m\u001b[0;34m.\u001b[0m\u001b[0mcolors\u001b[0m\u001b[0;34m,\u001b[0m \u001b[0;34m'bar'\u001b[0m\u001b[0;34m,\u001b[0m \u001b[0minp_list_of_groups\u001b[0m\u001b[0;34m[\u001b[0m\u001b[0;34m:\u001b[0m\u001b[0;34m-\u001b[0m\u001b[0;36m1\u001b[0m\u001b[0;34m]\u001b[0m\u001b[0;34m,\u001b[0m \u001b[0mbase_group_str\u001b[0m\u001b[0;34m)\u001b[0m\u001b[0;34m\u001b[0m\u001b[0;34m\u001b[0m\u001b[0m\n",
      "\u001b[0;31mTypeError\u001b[0m: plot_df() takes 5 positional arguments but 6 were given"
     ]
    }
   ],
   "source": [
    "\n",
    "\n",
    "states['minnesota'].generalizable_multi_level_summary(inp_list_of_groups = ['race', 'departure'])\n",
    "#states['minnesota'].state_trends()\n",
    "#output = states['minnesota'].individual_section_analysis_v2('judge','Nord, Beryl', ['race','departure'])"
   ]
  },
  {
   "cell_type": "code",
   "execution_count": 13,
   "id": "5e7b0952",
   "metadata": {},
   "outputs": [
    {
     "data": {
      "text/html": [
       "<div>\n",
       "<style scoped>\n",
       "    .dataframe tbody tr th:only-of-type {\n",
       "        vertical-align: middle;\n",
       "    }\n",
       "\n",
       "    .dataframe tbody tr th {\n",
       "        vertical-align: top;\n",
       "    }\n",
       "\n",
       "    .dataframe thead th {\n",
       "        text-align: right;\n",
       "    }\n",
       "</style>\n",
       "<table border=\"1\" class=\"dataframe\">\n",
       "  <thead>\n",
       "    <tr style=\"text-align: right;\">\n",
       "      <th></th>\n",
       "      <th></th>\n",
       "      <th>count</th>\n",
       "      <th>percent</th>\n",
       "    </tr>\n",
       "    <tr>\n",
       "      <th>race</th>\n",
       "      <th>durdep</th>\n",
       "      <th></th>\n",
       "      <th></th>\n",
       "    </tr>\n",
       "  </thead>\n",
       "  <tbody>\n",
       "    <tr>\n",
       "      <th rowspan=\"2\" valign=\"top\">American Indian</th>\n",
       "      <th>Within Range</th>\n",
       "      <td>7</td>\n",
       "      <td>87.5</td>\n",
       "    </tr>\n",
       "    <tr>\n",
       "      <th>Below Range</th>\n",
       "      <td>1</td>\n",
       "      <td>12.5</td>\n",
       "    </tr>\n",
       "    <tr>\n",
       "      <th rowspan=\"3\" valign=\"top\">Asian</th>\n",
       "      <th>Within Range</th>\n",
       "      <td>4</td>\n",
       "      <td>66.7</td>\n",
       "    </tr>\n",
       "    <tr>\n",
       "      <th>Above Departure</th>\n",
       "      <td>1</td>\n",
       "      <td>16.7</td>\n",
       "    </tr>\n",
       "    <tr>\n",
       "      <th>Below Range</th>\n",
       "      <td>1</td>\n",
       "      <td>16.7</td>\n",
       "    </tr>\n",
       "    <tr>\n",
       "      <th rowspan=\"4\" valign=\"top\">Black</th>\n",
       "      <th>Within Range</th>\n",
       "      <td>69</td>\n",
       "      <td>79.3</td>\n",
       "    </tr>\n",
       "    <tr>\n",
       "      <th>Above Departure</th>\n",
       "      <td>5</td>\n",
       "      <td>5.7</td>\n",
       "    </tr>\n",
       "    <tr>\n",
       "      <th>Below Range</th>\n",
       "      <td>10</td>\n",
       "      <td>11.5</td>\n",
       "    </tr>\n",
       "    <tr>\n",
       "      <th>Missing, Indeterminable, or Inapplicable</th>\n",
       "      <td>3</td>\n",
       "      <td>3.4</td>\n",
       "    </tr>\n",
       "    <tr>\n",
       "      <th rowspan=\"2\" valign=\"top\">Hispanic</th>\n",
       "      <th>Within Range</th>\n",
       "      <td>6</td>\n",
       "      <td>75.0</td>\n",
       "    </tr>\n",
       "    <tr>\n",
       "      <th>Above Departure</th>\n",
       "      <td>2</td>\n",
       "      <td>25.0</td>\n",
       "    </tr>\n",
       "    <tr>\n",
       "      <th rowspan=\"4\" valign=\"top\">White</th>\n",
       "      <th>Within Range</th>\n",
       "      <td>58</td>\n",
       "      <td>85.3</td>\n",
       "    </tr>\n",
       "    <tr>\n",
       "      <th>Above Departure</th>\n",
       "      <td>3</td>\n",
       "      <td>4.4</td>\n",
       "    </tr>\n",
       "    <tr>\n",
       "      <th>Below Range</th>\n",
       "      <td>3</td>\n",
       "      <td>4.4</td>\n",
       "    </tr>\n",
       "    <tr>\n",
       "      <th>Missing, Indeterminable, or Inapplicable</th>\n",
       "      <td>4</td>\n",
       "      <td>5.9</td>\n",
       "    </tr>\n",
       "  </tbody>\n",
       "</table>\n",
       "</div>"
      ],
      "text/plain": [
       "                                                          count  percent\n",
       "race            durdep                                                  \n",
       "American Indian Within Range                                  7     87.5\n",
       "                Below Range                                   1     12.5\n",
       "Asian           Within Range                                  4     66.7\n",
       "                Above Departure                               1     16.7\n",
       "                Below Range                                   1     16.7\n",
       "Black           Within Range                                 69     79.3\n",
       "                Above Departure                               5      5.7\n",
       "                Below Range                                  10     11.5\n",
       "                Missing, Indeterminable, or Inapplicable      3      3.4\n",
       "Hispanic        Within Range                                  6     75.0\n",
       "                Above Departure                               2     25.0\n",
       "White           Within Range                                 58     85.3\n",
       "                Above Departure                               3      4.4\n",
       "                Below Range                                   3      4.4\n",
       "                Missing, Indeterminable, or Inapplicable      4      5.9"
      ]
     },
     "execution_count": 13,
     "metadata": {},
     "output_type": "execute_result"
    }
   ],
   "source": [
    "output[2001][0]"
   ]
  },
  {
   "cell_type": "code",
   "execution_count": 7,
   "id": "cd97c15f",
   "metadata": {},
   "outputs": [
    {
     "data": {
      "text/plain": [
       "2015    296\n",
       "2014    287\n",
       "2013    279\n",
       "2007    263\n",
       "2011    254\n",
       "2009    216\n",
       "2010    213\n",
       "2006    211\n",
       "2008    188\n",
       "2012    181\n",
       "2001    155\n",
       "2005    141\n",
       "2002    118\n",
       "2016     46\n",
       "2019     12\n",
       "2003     11\n",
       "2004      4\n",
       "Name: sentyear, dtype: int64"
      ]
     },
     "execution_count": 7,
     "metadata": {},
     "output_type": "execute_result"
    }
   ],
   "source": [
    "states['minnesota'].data[states['minnesota'].data['judge'] == 'Rosas, Salvador']['sentyear'].value_counts()"
   ]
  },
  {
   "cell_type": "code",
   "execution_count": null,
   "id": "648d67a3",
   "metadata": {},
   "outputs": [],
   "source": []
  }
 ],
 "metadata": {
  "kernelspec": {
   "display_name": "Python 3 (ipykernel)",
   "language": "python",
   "name": "python3"
  },
  "language_info": {
   "codemirror_mode": {
    "name": "ipython",
    "version": 3
   },
   "file_extension": ".py",
   "mimetype": "text/x-python",
   "name": "python",
   "nbconvert_exporter": "python",
   "pygments_lexer": "ipython3",
   "version": "3.9.7"
  }
 },
 "nbformat": 4,
 "nbformat_minor": 5
}
