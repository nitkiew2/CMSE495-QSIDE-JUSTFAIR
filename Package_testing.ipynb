{
 "cells": [
  {
   "cell_type": "code",
   "execution_count": 3,
   "id": "5fba1397",
   "metadata": {},
   "outputs": [],
   "source": [
    "#from IPython.display import clear_output\n",
    "#! pip install 'git+https://github.com/nitkiew2/CMSE495-QSIDE-JUSTFAIR-TOOLBOX.git'\n",
    "#clear_output()"
   ]
  },
  {
   "cell_type": "code",
   "execution_count": 10,
   "id": "7970ba62",
   "metadata": {},
   "outputs": [],
   "source": [
    "import JUSTFAIR_Tools as jt\n",
    "from JUSTFAIR_Tools import State\n",
    "#from JUSTFAIR_Tools import toolbox"
   ]
  },
  {
   "cell_type": "code",
   "execution_count": 5,
   "id": "b7b6952c",
   "metadata": {},
   "outputs": [],
   "source": [
    "states = {}  # dictionary to hold all states.  maps dict['state name'] --> state object for that state\n",
    "paths = {}  # temporary paths dicitonary that will be passed into the creation of minnesota state object\n",
    "paths['county'] = jt.Path('countyname')\n",
    "paths['year'] = jt.Path('sentyear')\n",
    "paths['district'] = jt.Path('district')\n",
    "paths['race'] = jt.Path('race', {0:'NA', \n",
    "                         'white':'White', \n",
    "                         'black':'Black', \n",
    "                         'amind':'American Indian',\n",
    "                         'hispanic': 'Hispanic',\n",
    "                         'asian': 'Asian',\n",
    "                         'other': ' Other',\n",
    "                         None: 'Unknown'})\n",
    "paths['departure'] = jt.Path('durdep', {0:'Within Range', \n",
    "                                 1:'Above Departure', \n",
    "                                 2:'Below Range', \n",
    "                                 3:'Missing, Indeterminable, or Inapplicable'})\n",
    "paths['judge'] = jt.Path('judge')\n",
    "paths['sex'] = jt.Path('sex', {1: 'Male', \n",
    "                        2: 'Female'})\n",
    "paths['age'] = jt.Path('Agecat', {1: 'Under 18', \n",
    "                           2: '18-21', \n",
    "                           3: '22-25', \n",
    "                           4: '26-30',\n",
    "                           5: '31-40',\n",
    "                           6: '41-50',\n",
    "                           7: '51+'})\n"
   ]
  },
  {
   "cell_type": "code",
   "execution_count": 11,
   "id": "74f71c28",
   "metadata": {},
   "outputs": [
    {
     "ename": "TypeError",
     "evalue": "__init__() missing 3 required positional arguments: 'inp_name', 'inp_data_url', and 'inp_paths'",
     "output_type": "error",
     "traceback": [
      "\u001b[0;31m---------------------------------------------------------------------------\u001b[0m",
      "\u001b[0;31mTypeError\u001b[0m                                 Traceback (most recent call last)",
      "\u001b[0;32m<ipython-input-11-13b9f190dcd9>\u001b[0m in \u001b[0;36m<module>\u001b[0;34m\u001b[0m\n\u001b[1;32m      1\u001b[0m \u001b[0mstates\u001b[0m\u001b[0;34m[\u001b[0m\u001b[0;34m'minnesota'\u001b[0m\u001b[0;34m]\u001b[0m\u001b[0;34m\u001b[0m\u001b[0;34m\u001b[0m\u001b[0m\n\u001b[1;32m      2\u001b[0m \u001b[0;34m\u001b[0m\u001b[0m\n\u001b[0;32m----> 3\u001b[0;31m \u001b[0mst\u001b[0m \u001b[0;34m=\u001b[0m \u001b[0mState\u001b[0m\u001b[0;34m(\u001b[0m\u001b[0;34m)\u001b[0m\u001b[0;34m\u001b[0m\u001b[0;34m\u001b[0m\u001b[0m\n\u001b[0m",
      "\u001b[0;31mTypeError\u001b[0m: __init__() missing 3 required positional arguments: 'inp_name', 'inp_data_url', and 'inp_paths'"
     ]
    }
   ],
   "source": [
    "\n",
    "#now that we have the information, we create the minnesota state object and add it to the states dictionary\n",
    "states['minnesota'] = jt.State('minnesota', \n",
    "                            'https://drive.google.com/file/d/1uz_-qgvObAPcB444fEhb_QizWSiKe-eg/view?usp=sharing', \n",
    "                            paths)\n",
    "\n",
    "states['minnesota']\n"
   ]
  },
  {
   "cell_type": "code",
   "execution_count": 14,
   "id": "46deac73",
   "metadata": {},
   "outputs": [
    {
     "ename": "NameError",
     "evalue": "name 'filter_years' is not defined",
     "output_type": "error",
     "traceback": [
      "\u001b[0;31m---------------------------------------------------------------------------\u001b[0m",
      "\u001b[0;31mNameError\u001b[0m                                 Traceback (most recent call last)",
      "\u001b[0;32m<ipython-input-14-0610b55c7e56>\u001b[0m in \u001b[0;36m<module>\u001b[0;34m\u001b[0m\n\u001b[0;32m----> 1\u001b[0;31m \u001b[0mstates\u001b[0m\u001b[0;34m[\u001b[0m\u001b[0;34m'minnesota'\u001b[0m\u001b[0;34m]\u001b[0m\u001b[0;34m.\u001b[0m\u001b[0mgeneralizable_multi_level_summary\u001b[0m\u001b[0;34m(\u001b[0m\u001b[0minp_list_of_groups\u001b[0m \u001b[0;34m=\u001b[0m \u001b[0;34m[\u001b[0m\u001b[0;34m'race'\u001b[0m\u001b[0;34m,\u001b[0m \u001b[0;34m'departure'\u001b[0m\u001b[0;34m]\u001b[0m\u001b[0;34m,\u001b[0m \u001b[0myears\u001b[0m \u001b[0;34m=\u001b[0m \u001b[0;32mNone\u001b[0m\u001b[0;34m,\u001b[0m \u001b[0mplot\u001b[0m \u001b[0;34m=\u001b[0m \u001b[0;34m'pie'\u001b[0m\u001b[0;34m)\u001b[0m\u001b[0;34m\u001b[0m\u001b[0;34m\u001b[0m\u001b[0m\n\u001b[0m",
      "\u001b[0;32m~/CMSE_495/CMSE495-QSIDE-JUSTFAIR-TOOLBOX/JUSTFAIR_Tools/State.py\u001b[0m in \u001b[0;36mgeneralizable_multi_level_summary\u001b[0;34m(stateobj, inp_list_of_groups, years, plot)\u001b[0m\n\u001b[1;32m    402\u001b[0m     \u001b[0;32mdef\u001b[0m \u001b[0mgeneralizable_multi_level_summary\u001b[0m\u001b[0;34m(\u001b[0m\u001b[0mstateobj\u001b[0m\u001b[0;34m,\u001b[0m \u001b[0minp_list_of_groups\u001b[0m \u001b[0;34m=\u001b[0m \u001b[0;34m[\u001b[0m\u001b[0;34m'departure'\u001b[0m\u001b[0;34m]\u001b[0m\u001b[0;34m,\u001b[0m \u001b[0myears\u001b[0m \u001b[0;34m=\u001b[0m \u001b[0;32mNone\u001b[0m\u001b[0;34m,\u001b[0m \u001b[0mplot\u001b[0m \u001b[0;34m=\u001b[0m \u001b[0;34m'stacked bar'\u001b[0m\u001b[0;34m)\u001b[0m\u001b[0;34m:\u001b[0m\u001b[0;34m\u001b[0m\u001b[0;34m\u001b[0m\u001b[0m\n\u001b[1;32m    403\u001b[0m         \u001b[0;31m# we should have a subplots vs stacked parameter here maybe?  either do lots of individual graphs or stacked\u001b[0m\u001b[0;34m\u001b[0m\u001b[0;34m\u001b[0m\u001b[0;34m\u001b[0m\u001b[0m\n\u001b[0;32m--> 404\u001b[0;31m         \u001b[0msubset_dat\u001b[0m \u001b[0;34m=\u001b[0m \u001b[0mfilter_years\u001b[0m\u001b[0;34m(\u001b[0m\u001b[0mstateobj\u001b[0m\u001b[0;34m,\u001b[0m \u001b[0myears\u001b[0m\u001b[0;34m)\u001b[0m  \u001b[0;31m#first, filter for the years we are looking for\u001b[0m\u001b[0;34m\u001b[0m\u001b[0;34m\u001b[0m\u001b[0m\n\u001b[0m\u001b[1;32m    405\u001b[0m         \u001b[0;32mreturn\u001b[0m \u001b[0msubset_data_multi_level_summary\u001b[0m\u001b[0;34m(\u001b[0m\u001b[0mstateobj\u001b[0m\u001b[0;34m,\u001b[0m \u001b[0msubset_dat\u001b[0m\u001b[0;34m,\u001b[0m \u001b[0mstateobj\u001b[0m\u001b[0;34m.\u001b[0m\u001b[0mname\u001b[0m\u001b[0;34m,\u001b[0m \u001b[0minp_list_of_groups\u001b[0m\u001b[0;34m,\u001b[0m \u001b[0mplot\u001b[0m\u001b[0;34m)\u001b[0m\u001b[0;34m\u001b[0m\u001b[0;34m\u001b[0m\u001b[0m\n",
      "\u001b[0;31mNameError\u001b[0m: name 'filter_years' is not defined"
     ]
    }
   ],
   "source": [
    "\n",
    "\n",
    "states['minnesota'].generalizable_multi_level_summary(inp_list_of_groups = ['race', 'departure'], years = None, plot = 'pie')\n"
   ]
  },
  {
   "cell_type": "code",
   "execution_count": null,
   "id": "5e7b0952",
   "metadata": {},
   "outputs": [],
   "source": []
  }
 ],
 "metadata": {
  "kernelspec": {
   "display_name": "Python 3 (ipykernel)",
   "language": "python",
   "name": "python3"
  },
  "language_info": {
   "codemirror_mode": {
    "name": "ipython",
    "version": 3
   },
   "file_extension": ".py",
   "mimetype": "text/x-python",
   "name": "python",
   "nbconvert_exporter": "python",
   "pygments_lexer": "ipython3",
   "version": "3.9.7"
  }
 },
 "nbformat": 4,
 "nbformat_minor": 5
}
