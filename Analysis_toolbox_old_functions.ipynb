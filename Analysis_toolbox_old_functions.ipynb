{
 "cells": [
  {
   "cell_type": "code",
   "execution_count": null,
   "id": "9ec10ab0",
   "metadata": {},
   "outputs": [],
   "source": []
  },
  {
   "cell_type": "code",
   "execution_count": null,
   "id": "d6f2c29c",
   "metadata": {},
   "outputs": [],
   "source": [
    "def state_aggregate(stateobj, years = None, stacked = False):\n",
    "    subset_dat = filter_years(stateobj, years)\n",
    "    \n",
    "    counts = subset_dat.groupby(stateobj.paths['departure'][0]).count()\n",
    "    counts = counts.rename(stateobj.paths['departure'][1])\n",
    "    counts = counts.iloc[:,0]\n",
    "     \n",
    "    order_of_outputs = ['Above Departure', 'Within Range', 'Below Range', 'Missing, Indeterminable, or Inapplicable']\n",
    "    porportions_list = []\n",
    "    for item in order_of_outputs:\n",
    "        porportions_list.append(round((100 * counts.at[item]  /  subset_dat.shape[0]),1))\n",
    "    \n",
    "    if stacked:\n",
    "        arr = np.array(porportions_list)\n",
    "        arr = arr.T\n",
    "        plot_departures_stacked([stateobj.name], porportions_list, [stateobj.name], order_of_outputs)\n",
    "    else:\n",
    "        plot_departures(order_of_outputs, porportions_list, [stateobj.name], s = False)\n",
    "    \n",
    "    return counts, porportions_list"
   ]
  },
  {
   "cell_type": "code",
   "execution_count": null,
   "id": "8112de23",
   "metadata": {},
   "outputs": [],
   "source": [
    "state_aggregate(states['minnesota'], stacked = False)"
   ]
  },
  {
   "cell_type": "code",
   "execution_count": null,
   "id": "ff9a5ff7",
   "metadata": {},
   "outputs": [],
   "source": [
    "def race_profile(stateobj, years = None, stacked = True):\n",
    "    subset_dat = filter_years(stateobj, years)\n",
    "    #grouping by departure and race\n",
    "    #divide by count(race) for racial percentages, to get counts, remove the denominator\n",
    "    counts = subset_dat.groupby([stateobj.paths['race'][0], stateobj.paths['departure'][0]]).count()\n",
    "    perc = round(100 * counts / subset_dat.groupby([stateobj.paths['race'][0]]).count(), 1)\n",
    "    \n",
    "    # renames the values to have a description\n",
    "    perc = perc.rename(stateobj.paths['race'][1], level = 0)\n",
    "    perc = perc.rename(stateobj.paths['departure'][1], level = 1)\n",
    "    perc = perc.iloc[:,0]  # all columns are the same, so we pull the first one\n",
    "    \n",
    "    counts = counts.rename(stateobj.paths['race'][1], level = 0)\n",
    "    counts = counts.rename(stateobj.paths['departure'][1], level = 1)\n",
    "    counts = counts.iloc[:,0]  # all columns are the same, so we pull the first one\n",
    "    \n",
    "    comb_df = pd.concat([counts,perc],axis=1)\n",
    "    comb_df.columns = ['count', 'percent']\n",
    "    \n",
    "    order_of_outputs = ['Above Departure', 'Within Range', 'Below Range', 'Missing, Indeterminable, or Inapplicable']\n",
    "    \n",
    "    #get the order of the races four out output, may make this a function\n",
    "    order_of_races = []\n",
    "    for idx in perc.index:  #idx is a tuple of (race, departure_type)\n",
    "        if idx[0] not in order_of_races:\n",
    "            order_of_races.append(idx[0])\n",
    "            \n",
    "    # we want our data to be in the shape: number of levels in output (departure) x number of subgroups (race)        \n",
    "    percentages = np.zeros((len(order_of_outputs), len(order_of_races)))\n",
    "    for dep in range(len(order_of_outputs)):\n",
    "        for race in range(len(order_of_races)):\n",
    "            percentages[dep, race] = perc.loc[(order_of_races[race], order_of_outputs[dep]),]\n",
    "    #warning, potential for keyerror above if sonehow we have a race that doesn't have all departure levels        \n",
    "    print(order_of_races)\n",
    "    print(type(order_of_races))\n",
    "    if stacked:\n",
    "        plot_departures_stacked(order_of_races, percentages, [stateobj.name, 'race'], order_of_outputs)\n",
    "    else:\n",
    "        for i in range(len(order_of_races)):\n",
    "            plot_departures(order_of_outputs, percentages[:,i], [stateobj.name, order_of_races[i]])\n",
    "    return comb_df"
   ]
  },
  {
   "cell_type": "code",
   "execution_count": null,
   "id": "8c6cf2fe",
   "metadata": {},
   "outputs": [],
   "source": [
    "race_profile(states['minnesota'], stacked = True)"
   ]
  }
 ],
 "metadata": {
  "kernelspec": {
   "display_name": "Python 3 (ipykernel)",
   "language": "python",
   "name": "python3"
  },
  "language_info": {
   "codemirror_mode": {
    "name": "ipython",
    "version": 3
   },
   "file_extension": ".py",
   "mimetype": "text/x-python",
   "name": "python",
   "nbconvert_exporter": "python",
   "pygments_lexer": "ipython3",
   "version": "3.9.7"
  }
 },
 "nbformat": 4,
 "nbformat_minor": 5
}
