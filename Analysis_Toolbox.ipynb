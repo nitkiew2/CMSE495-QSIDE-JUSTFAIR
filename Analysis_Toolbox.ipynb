{
 "cells": [
  {
   "cell_type": "code",
   "execution_count": 2,
   "id": "740b4a8d",
   "metadata": {},
   "outputs": [],
   "source": [
    "import pandas as pd\n",
    "import matplotlib.pyplot as plt\n",
    "#import pyreadr\n",
    "import numpy as np\n",
    "#import mplcursors"
   ]
  },
  {
   "cell_type": "markdown",
   "id": "2510758d",
   "metadata": {},
   "source": [
    "Import data\n",
    "\n",
    "Start by running locally, we'll work our way up to reading from the internet"
   ]
  },
  {
   "cell_type": "markdown",
   "id": "a7f14851",
   "metadata": {},
   "source": [
    "Overarching design for this toolbox is as follows.\n",
    "\n",
    "First, we design a state class to house necessary information.  Now, the issue is each state has different naming conventions on how it stores its data, so we then generate a set of easy to understand names to use.  After we have the easy-to-use names, we build a map that maps the easy-to-use names to the specific term the state uses.  From there, we can now write generalizable functions in terms of the easy-to-use names, and it works for every state as long as the map is set up."
   ]
  },
  {
   "cell_type": "markdown",
   "id": "010a1452",
   "metadata": {},
   "source": [
    "## General Terms\n",
    "\n",
    "First, we design a universal set of names to refer to information that is needed for our analysis.  These general terms are:\n",
    "1.\tYear: the year the sentencing occurred.\n",
    "2.\tCounty: the county of where the sentencing occurred.\n",
    "3.\tDistrict: the district the sentencing occurred.\n",
    "4.\tRace: the race of the individual sentenced\n",
    "5.\tDeparture: what kind of departure, if any occurred in the sentencing.  Levels could be Above Departure (sentencing greater than guideline), Within Range,  Below Range (sentence is below the guideline), or Indeterminable.\n",
    "6.\tJudge: the name of the Judge that sentenced the individual\n",
    "7.\tSex: the sex of the individual sentenced\n",
    "\n",
    "The idea here is we have these general, understandable terms.  State datasets vary from state to state, so we build a map to relate the general, usable term to the specific term the state uses.  This is useful for two reasons\n",
    "\n",
    "1.\tThis map makes writing functions universal because of the maps.  Since we know that we can use, for example, Year to access the year data, we can always use Year rather than have to write a new function for every state.\n",
    "2.\tIt makes reading and writing code easy to understand.  Rather than knowing durdep means duration in the Minnesota dataset, all you have to know is the general terms and the maps do all the hard work of relating the easy term to the hard one.\n"
   ]
  },
  {
   "cell_type": "markdown",
   "id": "5b61ebe9",
   "metadata": {},
   "source": [
    "# Class State\n",
    "Designed to be a container to hold all the necessary information for a specific state.  This class has 3 attributes\n",
    "* Name:  Stores the name of the state\n",
    "* Data: stores the dataframe for that state’s data\n",
    "* Paths: this is a dictionary that maps the easy to use names to the specific names the state’s dataset uses.\n",
    "* Paths always has 1 of the two formats:\n",
    "    1. paths\\[general term\\] = \\[specific_state_term\\]\n",
    "    2. paths\\[general term\\] = \\[specific_state_term, dictionary describing the levels of that term\\]\n",
    "    \n",
    "State objects are the core of this toolbox.  Every function is written with a state object being passed in.  The function takes the state object, then uses the genral terms, paths, and the states data to produce the desiered output."
   ]
  },
  {
   "cell_type": "code",
   "execution_count": 5,
   "id": "e933bc05",
   "metadata": {},
   "outputs": [],
   "source": [
    "class State:\n",
    "    def __init__(self, inp_name, inp_data, inp_paths):\n",
    "        self.name = inp_name\n",
    "        \n",
    "        self.data = inp_data  # pandas dataframe object\n",
    "        \n",
    "        self.paths = inp_paths  # dictionary object.  \n",
    "        # Always follows the format useful_id --> (name_in_data, dict(levels)).\n",
    "        # Levels doesn't always exist, but is needed for variables like departure\n",
    "        #path pairs are always (name_in_data, dict(levels)) or (name_in_data, None)\n",
    "        \n",
    "        self.average_percents= None  #list, has to be set by function. for all years, state averages for all people\n",
    "        self.yearly_average_percents = None  # list, has to be set by function. state averages for all people for each year\n",
    "                                             # format of:[year (int), [averages_list]]\n",
    "        \n",
    "    def set_average_percents(self, inp_avgp):\n",
    "        self.average_percents = inp_avgp\n",
    "    def set_yearly_average_percents(self, inp_avgp):\n",
    "        self.yearly_average_percents = inp_avgp"
   ]
  },
  {
   "cell_type": "markdown",
   "id": "73ebd9ea",
   "metadata": {},
   "source": [
    "This code is setting up the minnesota state"
   ]
  },
  {
   "cell_type": "code",
   "execution_count": 6,
   "id": "36a85006",
   "metadata": {},
   "outputs": [],
   "source": [
    "states = {}  # dictionary to hold all states.  maps dict['state name'] --> state object for that state\n",
    "paths = {}  # temporary paths dicitonary that will be passed into the creation of minnesota state object\n",
    "paths['county'] = ['countyname', None]\n",
    "paths['year'] = ['sentyear', None]\n",
    "paths['district'] = ['district', None]\n",
    "paths['race'] = ['race', {0:'NA', \n",
    "                                 'white':'White', \n",
    "                                 'black':'Black', \n",
    "                                 'amind':'American Indian',\n",
    "                                 'hispanic': 'Hispanic',\n",
    "                                 'asian': 'Asian',\n",
    "                                 'other': ' Other',\n",
    "                                 None: 'Unknown'}]\n",
    "paths['departure'] = ['durdep', {0:'Within Range', \n",
    "                                 1:'Above Departure', \n",
    "                                 2:'Below Range', \n",
    "                                 3:'Missing, Indeterminable, or Inapplicable'}]\n",
    "paths['judge'] = ['judge', None]\n",
    "paths['sex'] = ['sex', {1: 'Male', 2: 'Female'}]\n",
    "paths['age'] = ['Agecat', {1: 'Under 18', 2: '18-21', 3: '22-25', 4: '26-30',5: '31-40',6: '41-50',7: '51+'}]\n",
    "\n",
    "#now that we have the information, we create the minnesota state object and add it to the states dictionary\n",
    "states['minnesota'] = State('minnesota', pd.read_csv('allmnclean.csv', low_memory = False), paths)"
   ]
  },
  {
   "cell_type": "markdown",
   "id": "7e7530b4",
   "metadata": {},
   "source": [
    "# Plotting Functions"
   ]
  },
  {
   "cell_type": "code",
   "execution_count": 7,
   "id": "b7a2fb3c",
   "metadata": {},
   "outputs": [],
   "source": [
    "def plot_departures(departure_output, departure_porportions, subgroup, s = True):\n",
    "    subgroup_str = ''\n",
    "    for item in subgroup:\n",
    "        subgroup_str += str(item) + ' '\n",
    "    if s:  \n",
    "        subgroup_str = subgroup_str[:-1]\n",
    "        subgroup_str+='s'\n",
    "        \n",
    "    fig, ax = plt.subplots(figsize = (10,7))\n",
    "    bar_colors = ['red', 'grey', 'blue', 'teal']\n",
    "    \n",
    "    barh = ax.barh(departure_output, departure_porportions, color=bar_colors)\n",
    "    ax.invert_yaxis()  # labels read top-to-bottom\n",
    "    ax.set_xlabel('Percentage')\n",
    "    \n",
    "    ##ax.bar_label(barh)\n",
    "    ##for bars in ax.containers:\n",
    "        ##ax.bar_label(barh)\n",
    "    \n",
    "    ttl = 'Porportional sentences for '+ subgroup_str\n",
    "    ax.set_title(ttl)"
   ]
  },
  {
   "cell_type": "code",
   "execution_count": 8,
   "id": "e3432ed6",
   "metadata": {},
   "outputs": [],
   "source": [
    "def plot_departures_stacked(x_values_list, y_values_list, subgroup, legend, s = True):\n",
    "    subgroup_str = ''\n",
    "    for item in subgroup:\n",
    "        subgroup_str += str(item) + ' '\n",
    "    if s:  \n",
    "        subgroup_str = subgroup_str[:-1]\n",
    "        subgroup_str+='s'\n",
    "        \n",
    "    fig, ax = plt.subplots(figsize = (10, 0.9 * len(x_values_list)))\n",
    "    \n",
    "    bar_colors = ['red', 'grey', 'blue', 'teal']\n",
    "    \n",
    "    b = np.zeros(len(x_values_list))\n",
    "    for i in range(len(y_values_list)):\n",
    "        ax.barh(x_values_list, y_values_list[i], left = b, color = bar_colors[i], label = legend[i])\n",
    "        b += y_values_list[i]\n",
    "    ax.set_xlabel('Percentage')\n",
    "    ttl = 'Porportional sentences for '+ subgroup_str\n",
    "    ax.set_title(ttl)\n",
    "    ax.legend(bbox_to_anchor = (1.45, 0.6), loc='center right')"
   ]
  },
  {
   "cell_type": "markdown",
   "id": "f9c51e8e",
   "metadata": {},
   "source": [
    "# Helper Functions"
   ]
  },
  {
   "cell_type": "code",
   "execution_count": 9,
   "id": "e69f3f7e",
   "metadata": {},
   "outputs": [],
   "source": [
    "def filter_years(stateobj, years):\n",
    "    '''\n",
    "    Every funciton has a years to filter parameter, so we are building a function here because:\n",
    "    1.  if we have to edit it, we only have to edit it here\n",
    "    2.  saves us time from rewriting this a bunch\n",
    "    Parameters:\n",
    "    stateobj: a state object\n",
    "    years: the specified years.  Either a range or none\n",
    "    '''\n",
    "    subset_dat = stateobj.data\n",
    "    if years != None:  \n",
    "        # if the user specifies a year range, filter the data for those years\n",
    "        subset_dat = stateobj.data[stateobj.paths['year'] == years]\n",
    "    return subset_dat"
   ]
  },
  {
   "cell_type": "markdown",
   "id": "83cfb078",
   "metadata": {},
   "source": [
    "# Analysis Functions"
   ]
  },
  {
   "cell_type": "markdown",
   "id": "3a8effb6",
   "metadata": {},
   "source": [
    "### State aggregate"
   ]
  },
  {
   "cell_type": "code",
   "execution_count": 143,
   "id": "057867b4",
   "metadata": {},
   "outputs": [],
   "source": [
    "def state_aggregate(stateobj, years = None, stacked = False):\n",
    "    subset_dat = filter_years(stateobj, years)\n",
    "    \n",
    "    counts = subset_dat.groupby(stateobj.paths['departure'][0]).count()\n",
    "    counts = counts.rename(stateobj.paths['departure'][1])\n",
    "    counts = counts.iloc[:,0]\n",
    "     \n",
    "    order_of_outputs = ['Above Departure', 'Within Range', 'Below Range', 'Missing, Indeterminable, or Inapplicable']\n",
    "    porportions_list = []\n",
    "    for item in order_of_outputs:\n",
    "        porportions_list.append(round((100 * counts.at[item]  /  subset_dat.shape[0]),1))\n",
    "    \n",
    "    if stacked:\n",
    "        arr = np.array(porportions_list)\n",
    "        arr = arr.T\n",
    "        plot_departures_stacked([stateobj.name], porportions_list, [stateobj.name], order_of_outputs)\n",
    "    else:\n",
    "        plot_departures(order_of_outputs, porportions_list, [stateobj.name], s = False)\n",
    "    \n",
    "    return counts, porportions_list"
   ]
  },
  {
   "cell_type": "code",
   "execution_count": null,
   "id": "61819108",
   "metadata": {
    "scrolled": true
   },
   "outputs": [],
   "source": [
    "state_aggregate(states['minnesota'], stacked = False)"
   ]
  },
  {
   "cell_type": "markdown",
   "id": "e99c4a3a",
   "metadata": {},
   "source": [
    "## Race profile\n",
    "\n",
    "Grouping by race, what is the breakdown for sentencing in this state?"
   ]
  },
  {
   "cell_type": "code",
   "execution_count": 106,
   "id": "81a8a064",
   "metadata": {},
   "outputs": [],
   "source": [
    "def race_profile(stateobj, years = None, stacked = True):\n",
    "    subset_dat = filter_years(stateobj, years)\n",
    "    #grouping by departure and race\n",
    "    #divide by count(race) for racial percentages, to get counts, remove the denominator\n",
    "    counts = subset_dat.groupby([stateobj.paths['race'][0], stateobj.paths['departure'][0]]).count()\n",
    "    perc = round(100 * counts / subset_dat.groupby([stateobj.paths['race'][0]]).count(), 1)\n",
    "    \n",
    "    # renames the values to have a description\n",
    "    perc = perc.rename(stateobj.paths['race'][1], level = 0)\n",
    "    perc = perc.rename(stateobj.paths['departure'][1], level = 1)\n",
    "    perc = perc.iloc[:,0]  # all columns are the same, so we pull the first one\n",
    "    \n",
    "    counts = counts.rename(stateobj.paths['race'][1], level = 0)\n",
    "    counts = counts.rename(stateobj.paths['departure'][1], level = 1)\n",
    "    counts = counts.iloc[:,0]  # all columns are the same, so we pull the first one\n",
    "    \n",
    "    comb_df = pd.concat([counts,perc],axis=1)\n",
    "    comb_df.columns = ['count', 'percent']\n",
    "    \n",
    "    order_of_outputs = ['Above Departure', 'Within Range', 'Below Range', 'Missing, Indeterminable, or Inapplicable']\n",
    "    \n",
    "    #get the order of the races four out output, may make this a function\n",
    "    order_of_races = []\n",
    "    for idx in perc.index:  #idx is a tuple of (race, departure_type)\n",
    "        if idx[0] not in order_of_races:\n",
    "            order_of_races.append(idx[0])\n",
    "            \n",
    "    # we want our data to be in the shape: number of levels in output (departure) x number of subgroups (race)        \n",
    "    percentages = np.zeros((len(order_of_outputs), len(order_of_races)))\n",
    "    for dep in range(len(order_of_outputs)):\n",
    "        for race in range(len(order_of_races)):\n",
    "            percentages[dep, race] = perc.loc[(order_of_races[race], order_of_outputs[dep]),]\n",
    "    #warning, potential for keyerror above if sonehow we have a race that doesn't have all departure levels        \n",
    "    print(order_of_races)\n",
    "    print(type(order_of_races))\n",
    "    if stacked:\n",
    "        plot_departures_stacked(order_of_races, percentages, [stateobj.name, 'race'], order_of_outputs)\n",
    "    else:\n",
    "        for i in range(len(order_of_races)):\n",
    "            plot_departures(order_of_outputs, percentages[:,i], [stateobj.name, order_of_races[i]])\n",
    "    return comb_df"
   ]
  },
  {
   "cell_type": "code",
   "execution_count": null,
   "id": "6116ce7f",
   "metadata": {
    "scrolled": false
   },
   "outputs": [],
   "source": [
    "race_profile(states['minnesota'], stacked = True)"
   ]
  },
  {
   "cell_type": "code",
   "execution_count": 22,
   "id": "cdf292cd",
   "metadata": {},
   "outputs": [],
   "source": [
    "def generalizable_multi_level_summary(stateobj, inp_list_of_groups, years = None, plot = 'stacked'):\n",
    "    # we should have a subplots vs stacked parameter here maybe?  either do lots of individual graphs or stacked\n",
    "    subset_dat = filter_years(stateobj, years)  #first, filter for the years we are looking for\n",
    "    groups_to_filter_by = []  # this list keeps track of the column names in our stateobj.data we are grouping by\n",
    "    # get the column names in our stateobj.data we are grouping by\n",
    "    for group in inp_list_of_groups:\n",
    "        groups_to_filter_by.append(stateobj.paths[group][0])\n",
    "    #groups_to_filter_by.append(stateobj.paths['departure'][0])  # add departure as a group by on the end, as that is our \n",
    "                                                                # the variable we are looking at\n",
    "    \n",
    "    #grouping by \n",
    "    #divide by count(all_items_but_daparture) for departure percentages for each subgroup\n",
    "    counts = subset_dat.groupby(groups_to_filter_by).count()\n",
    "    perc = None #initializing, will get value in next lines\n",
    "    if len(inp_list_of_groups) > 1: # if we are goruping by more than departure\n",
    "        perc = round(100 * counts / subset_dat.groupby(groups_to_filter_by[:-1]).count(), 1)\n",
    "    else:\n",
    "        perc = round( (100 * counts/ counts.shape[0]),2)  #if we are just grouping by departure, we divide by data frame length\n",
    "    \n",
    "    # renames the values that have levels\n",
    "    l=0\n",
    "    for group in inp_list_of_groups:\n",
    "        if stateobj.paths[group][1] is not None:\n",
    "            perc = perc.rename(stateobj.paths[group][1], level = l)\n",
    "            counts = counts.rename(stateobj.paths[group][1], level = l)\n",
    "        l += 1\n",
    "    # pull the data we need from our dataframes    \n",
    "    perc = perc.iloc[:,0]  # all columns are the same, so we pull the first one\n",
    "    counts = counts.iloc[:,0]  # all columns are the same, so we pull the first one\n",
    "    \n",
    "    #create an output dataframe to return\n",
    "    comb_df = pd.concat([counts,perc],axis=1)  # combine our two columns into a dataframe\n",
    "    comb_df.columns = ['count', 'percent']  # rename columns \n",
    "    if plot == 'stacked':\n",
    "        plot_df(perc, True, stateobj.name, inp_list_of_groups[:-1])  # call our plotting function\n",
    "    elif plot == 'single':\n",
    "        plot_df(perc, False, stateobj.name, inp_list_of_groups[:-1])\n",
    "\n",
    "    return comb_df"
   ]
  },
  {
   "cell_type": "code",
   "execution_count": 34,
   "id": "2ac39a26",
   "metadata": {
    "scrolled": false
   },
   "outputs": [
    {
     "data": {
      "text/html": [
       "<div>\n",
       "<style scoped>\n",
       "    .dataframe tbody tr th:only-of-type {\n",
       "        vertical-align: middle;\n",
       "    }\n",
       "\n",
       "    .dataframe tbody tr th {\n",
       "        vertical-align: top;\n",
       "    }\n",
       "\n",
       "    .dataframe thead th {\n",
       "        text-align: right;\n",
       "    }\n",
       "</style>\n",
       "<table border=\"1\" class=\"dataframe\">\n",
       "  <thead>\n",
       "    <tr style=\"text-align: right;\">\n",
       "      <th></th>\n",
       "      <th>count</th>\n",
       "      <th>percent</th>\n",
       "    </tr>\n",
       "    <tr>\n",
       "      <th>durdep</th>\n",
       "      <th></th>\n",
       "      <th></th>\n",
       "    </tr>\n",
       "  </thead>\n",
       "  <tbody>\n",
       "    <tr>\n",
       "      <th>Within Range</th>\n",
       "      <td>252971</td>\n",
       "      <td>6324275.0</td>\n",
       "    </tr>\n",
       "    <tr>\n",
       "      <th>Above Departure</th>\n",
       "      <td>5855</td>\n",
       "      <td>146375.0</td>\n",
       "    </tr>\n",
       "    <tr>\n",
       "      <th>Below Range</th>\n",
       "      <td>22208</td>\n",
       "      <td>555200.0</td>\n",
       "    </tr>\n",
       "    <tr>\n",
       "      <th>Missing, Indeterminable, or Inapplicable</th>\n",
       "      <td>12185</td>\n",
       "      <td>304625.0</td>\n",
       "    </tr>\n",
       "  </tbody>\n",
       "</table>\n",
       "</div>"
      ],
      "text/plain": [
       "                                           count    percent\n",
       "durdep                                                     \n",
       "Within Range                              252971  6324275.0\n",
       "Above Departure                             5855   146375.0\n",
       "Below Range                                22208   555200.0\n",
       "Missing, Indeterminable, or Inapplicable   12185   304625.0"
      ]
     },
     "execution_count": 34,
     "metadata": {},
     "output_type": "execute_result"
    },
    {
     "data": {
      "image/png": "[encoded data removed]",
      "text/plain": [
       "<Figure size 720x64.8 with 1 Axes>"
      ]
     },
     "metadata": {
      "needs_background": "light"
     },
     "output_type": "display_data"
    }
   ],
   "source": [
    "generalizable_multi_level_summary(states['minnesota'], ['departure'], years = None, plot = 'stacked')"
   ]
  },
  {
   "cell_type": "code",
   "execution_count": 32,
   "id": "ea0ad6c1",
   "metadata": {},
   "outputs": [],
   "source": [
    "def plot_df(df, stacked, statename, groups):\n",
    "    '''\n",
    "    Main plotting function.  This is used by generalizable_multi_level_summary to take a dataframe and generate \n",
    "    graphs by calling plot_departures or plot_departures_stacked.\n",
    "    Parameters:\n",
    "    df: input dataframe.  Right now we are using percents from generalizable_multi_level_summary\n",
    "    stacked: if true, produce stacked bar graphs, if false, produce nonstacked bar graphs\n",
    "    statename.  the state's name, used in graph titles\n",
    "    groups: the parameters we are grouping by, we use these to generate titles in stacked bar graphs\n",
    "    \n",
    "    we have 4 main situations here\n",
    "    1. stacked bar, just departure to group by\n",
    "    2. stacked bar, more than just deaprture to group by\n",
    "    3. not stacked bar, just departure\n",
    "    4. not stacked bar, more than jsut departure\n",
    "    \n",
    "    each situation is handeled in the plotting phase\n",
    "    '''\n",
    "    \n",
    "    # create our order of departure variables\n",
    "    order_of_outputs = ['Above Departure', 'Within Range', 'Below Range', 'Missing, Indeterminable, or Inapplicable']\n",
    "    unique_identifiers = []  # list of unique tubles in df.index we will need\n",
    "    unique_identifier_strings = []  # string fromat of unique_identifiers, used in graph titles.\n",
    "    for ind in df.index:\n",
    "        if ind[:-1] not in unique_identifiers:  # we do ind[:-1] here because the last identifier is always departure, and we want our grops to be everything but departure \n",
    "            unique_identifiers.append(ind[:-1])  # add the unique identifier tuple\n",
    "            # create and add string form of the unique identifier to unique_identifier_strings\n",
    "            unique_identifier_string = ''\n",
    "            for string in ind[:-1]:\n",
    "                unique_identifier_string += str(string) + ' '\n",
    "            unique_identifier_string = unique_identifier_string[:-1]\n",
    "            unique_identifier_strings.append(unique_identifier_string)\n",
    "                \n",
    "    # plotting time.\n",
    "    if stacked:\n",
    "        if len(groups) > 0:\n",
    "            porportions = np.zeros((len(order_of_outputs), len(unique_identifiers)))\n",
    "            for dep in range(len(order_of_outputs)):\n",
    "                for unique_id in range(len(unique_identifiers)):\n",
    "                    loc_id = unique_identifiers[unique_id] + (order_of_outputs[dep],)\n",
    "                    if loc_id in df.index:\n",
    "                        porportions[dep, unique_id] = df.loc[loc_id,]\n",
    "\n",
    "            groups.insert(0, statename)  # we need the statename for plotting purposes\n",
    "            plot_departures_stacked(unique_identifier_strings, porportions, groups, order_of_outputs)\n",
    "        else:  # jsut departure\n",
    "            porportions = []\n",
    "            for departure_type in order_of_outputs:\n",
    "                porportions.append(df.loc[departure_type,])\n",
    "            groups.insert(0, statename)  # we need the statename for plotting purposes\n",
    "            plot_departures_stacked([statename], porportions, groups, order_of_outputs, s = False)\n",
    "            \n",
    "    else:  # not stacked bars\n",
    "        if len(groups) > 0:\n",
    "            for unique_id in unique_identifiers:\n",
    "                porportions = [0,0,0,0]\n",
    "                pos = 0\n",
    "                for deperture_type in order_of_outputs:\n",
    "                    comb_ind = unique_id + (deperture_type,)\n",
    "                    if comb_ind in df.index:\n",
    "                        porportions[pos] = df.loc[comb_ind,]\n",
    "                    pos += 1\n",
    "                plot_departures(order_of_outputs, porportions, unique_id)\n",
    "        else:\n",
    "            porportions = []\n",
    "            for departure_type in order_of_outputs:\n",
    "                porportions.append(df.loc[departure_type,])\n",
    "            plot_departures(order_of_outputs, porportions, [statename], s = False)    "
   ]
  },
  {
   "cell_type": "code",
   "execution_count": null,
   "id": "eb36ac7a",
   "metadata": {},
   "outputs": [],
   "source": []
  },
  {
   "cell_type": "code",
   "execution_count": null,
   "id": "2a01f9bb",
   "metadata": {},
   "outputs": [],
   "source": []
  },
  {
   "cell_type": "code",
   "execution_count": null,
   "id": "d101390f",
   "metadata": {},
   "outputs": [],
   "source": []
  }
 ],
 "metadata": {
  "kernelspec": {
   "display_name": "Python 3 (ipykernel)",
   "language": "python",
   "name": "python3"
  },
  "language_info": {
   "codemirror_mode": {
    "name": "ipython",
    "version": 3
   },
   "file_extension": ".py",
   "mimetype": "text/x-python",
   "name": "python",
   "nbconvert_exporter": "python",
   "pygments_lexer": "ipython3",
   "version": "3.9.7"
  }
 },
 "nbformat": 4,
 "nbformat_minor": 5
}
