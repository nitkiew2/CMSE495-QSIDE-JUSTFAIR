{
 "cells": [
  {
   "cell_type": "code",
   "execution_count": 1,
   "id": "740b4a8d",
   "metadata": {},
   "outputs": [],
   "source": [
    "import pandas as pd\n",
    "import matplotlib.pyplot as plt\n",
    "import pyreadr\n",
    "import numpy as np"
   ]
  },
  {
   "cell_type": "markdown",
   "id": "2510758d",
   "metadata": {},
   "source": [
    "Import data\n",
    "\n",
    "Start by running locally, we'll work our way up to reading from the internet"
   ]
  },
  {
   "cell_type": "code",
   "execution_count": 2,
   "id": "e933bc05",
   "metadata": {},
   "outputs": [],
   "source": [
    "class State:\n",
    "    def __init__(self, inp_name, inp_data, inp_paths):\n",
    "        self.name = inp_name\n",
    "        \n",
    "        self.data = inp_data  # pandas dataframe object\n",
    "        \n",
    "        self.paths = inp_paths  # dictionary object.  \n",
    "        # Always follows the format useful_id --> (name_in_data, dict(levels)).\n",
    "        # Levels doesn't always exist, but is needed for variables like departure\n",
    "        "
   ]
  },
  {
   "cell_type": "markdown",
   "id": "73ebd9ea",
   "metadata": {},
   "source": [
    "This code is setting up the minnesota state"
   ]
  },
  {
   "cell_type": "code",
   "execution_count": 10,
   "id": "36a85006",
   "metadata": {},
   "outputs": [],
   "source": [
    "states = {}\n",
    "paths = {}\n",
    "paths['county'] = ['countyname']\n",
    "paths['year'] = ['sentyear']\n",
    "paths['district'] = ['district']\n",
    "paths['race'] = ['race', {0:'NA', \n",
    "                                 1:'White', \n",
    "                                 2:'Black', \n",
    "                                 3:'American Indian',\n",
    "                                 4: 'Hispanic',\n",
    "                                 5: 'Asian',\n",
    "                                 6: ' Other',\n",
    "                                 7: 'Unknown'}]\n",
    "paths['departure'] = ['durdep', {0:'Within Range', \n",
    "                                 1:'Above Departure', \n",
    "                                 2:'Below Range', \n",
    "                                 3:'Missing, Indeterminable, or Inapplicable'}]\n",
    "paths['judge'] = ['judge']\n",
    "paths['sex'] = ['sex', {1: 'male', 2: 'female'}]\n",
    "paths['age'] = ['Agecat', {1: 'under 18', 2: '18-21', 3: '22-25', 4: '26-30',5: '31-40',6: '41-50',7: '51+'}]\n",
    "\n",
    "\n",
    "states['minnesota'] = State('minnesota', pd.read_csv('allmnclean.csv', low_memory = False), paths)"
   ]
  },
  {
   "cell_type": "markdown",
   "id": "7e7530b4",
   "metadata": {},
   "source": [
    "There are two functions here, one is a quick plotting funciton and the second is the state aggregate function"
   ]
  },
  {
   "cell_type": "code",
   "execution_count": 11,
   "id": "057867b4",
   "metadata": {},
   "outputs": [],
   "source": [
    "def plot_departures(departure_output, departure_porportions, subgroup, s = True):\n",
    "    subgroup_str = ''\n",
    "    for item in subgroup:\n",
    "        subgroup_str += str(item) + ' '\n",
    "    if s:  \n",
    "        subgroup_str[-1]='s'\n",
    "    fig, ax = plt.subplots(figsize = (10,7))\n",
    "    \n",
    "    bar_colors = ['red', 'grey', 'blue', 'teal']\n",
    "    \n",
    "    barh = ax.barh(departure_output, departure_porportions, color=bar_colors)\n",
    "    ax.invert_yaxis()  # labels read top-to-bottom\n",
    "    ax.set_xlabel('percentage')\n",
    "    \n",
    "    ##ax.bar_label(barh)\n",
    "    ##for bars in ax.containers:\n",
    "        ##ax.bar_label(barh)\n",
    "    \n",
    "    ttl = 'Porportional sentances for '+ subgroup_str\n",
    "    ax.set_title(ttl)\n",
    "\n",
    "\n",
    "\n",
    "def state_aggregate(stateobj, years = None):\n",
    "    subset_dat = stateobj.data\n",
    "    if years != None:\n",
    "        subset_dat = stateobj.data[stateobj.paths['year'] == years]\n",
    "        \n",
    "    counts = subset_dat.groupby(stateobj.paths['departure'][0]).count()\n",
    "    counts = counts.rename(stateobj.paths['departure'][1])\n",
    "    counts = counts.iloc[:,0]\n",
    "     \n",
    "    order_of_outputs = ['Above Departure', 'Within Range', 'Below Range', 'Missing, Indeterminable, or Inapplicable']\n",
    "    porportions_list = []\n",
    "    for item in order_of_outputs:\n",
    "        porportions_list.append(round((100 * counts.at[item]  /  subset_dat.shape[0]),1))\n",
    "    \n",
    "    plot_departures(order_of_outputs, porportions_list, [stateobj.name], s = False)\n",
    "    \n",
    "    return counts"
   ]
  },
  {
   "cell_type": "code",
   "execution_count": 12,
   "id": "61819108",
   "metadata": {
    "scrolled": true
   },
   "outputs": [
    {
     "data": {
      "text/plain": [
       "durdep\n",
       "Within Range                                254148\n",
       "Above Departure                               5875\n",
       "Below Range                                  22240\n",
       "Missing, Indeterminable, or Inapplicable     12204\n",
       "Name: sentyear, dtype: int64"
      ]
     },
     "execution_count": 12,
     "metadata": {},
     "output_type": "execute_result"
    },
    {
     "data": {
      "image/png": "[encoded data removed]",
      "text/plain": [
       "<Figure size 720x504 with 1 Axes>"
      ]
     },
     "metadata": {
      "needs_background": "light"
     },
     "output_type": "display_data"
    }
   ],
   "source": [
    "state_aggregate(states['minnesota'])"
   ]
  },
  {
   "cell_type": "code",
   "execution_count": 13,
   "id": "81a8a064",
   "metadata": {},
   "outputs": [],
   "source": [
    "def race_aggregate(stateobj, years = None):\n",
    "    subset_dat = stateobj.data\n",
    "    if years != None:\n",
    "        subset_dat = stateobj.data[stateobj.paths['year'] == years]\n",
    "        \n",
    "    counts = subset_dat.groupby(stateobj.paths['race'][0]).count()\n",
    "    counts = counts.rename(stateobj.paths['race'][1])\n",
    "    counts = counts.iloc[:,0]\n",
    "    \n",
    "    return counts"
   ]
  },
  {
   "cell_type": "code",
   "execution_count": 14,
   "id": "6116ce7f",
   "metadata": {},
   "outputs": [
    {
     "data": {
      "text/plain": [
       "race\n",
       "NA                      7\n",
       "White              173048\n",
       "Black               76999\n",
       "American Indian     21032\n",
       "Hispanic            16081\n",
       "Asian                7078\n",
       " Other                221\n",
       "Unknown                 1\n",
       "Name: sentyear, dtype: int64"
      ]
     },
     "execution_count": 14,
     "metadata": {},
     "output_type": "execute_result"
    }
   ],
   "source": [
    "race_aggregate(states['minnesota'])"
   ]
  },
  {
   "cell_type": "code",
   "execution_count": null,
   "id": "cdf292cd",
   "metadata": {},
   "outputs": [],
   "source": []
  }
 ],
 "metadata": {
  "kernelspec": {
   "display_name": "Python 3",
   "language": "python",
   "name": "python3"
  },
  "language_info": {
   "codemirror_mode": {
    "name": "ipython",
    "version": 3
   },
   "file_extension": ".py",
   "mimetype": "text/x-python",
   "name": "python",
   "nbconvert_exporter": "python",
   "pygments_lexer": "ipython3",
   "version": "3.8.8"
  }
 },
 "nbformat": 4,
 "nbformat_minor": 5
}
